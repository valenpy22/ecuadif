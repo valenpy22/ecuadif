{
 "cells": [
  {
   "cell_type": "code",
   "execution_count": 1,
   "id": "3e319380",
   "metadata": {},
   "outputs": [
    {
     "data": {
      "text/plain": [
       "array([[1, 2],\n",
       "       [3, 4]])"
      ]
     },
     "execution_count": 1,
     "metadata": {},
     "output_type": "execute_result"
    }
   ],
   "source": [
    "import numpy as np\n",
    "import sympy as sp\n",
    "import matplotlib.pyplot as plt\n",
    "%matplotlib inline\n",
    "\n",
    "#a) Definir un arreglo de dos filas y dos columnas\n",
    "\n",
    "A = np.array([[1, 2], [3, 4]])\n",
    "A"
   ]
  },
  {
   "cell_type": "code",
   "execution_count": 7,
   "id": "0f38e318",
   "metadata": {},
   "outputs": [
    {
     "name": "stdout",
     "output_type": "stream",
     "text": [
      "10\n"
     ]
    }
   ],
   "source": [
    "#b) Calcular la suma de los elementos de su arreglo\n",
    "suma = 0\n",
    "contador = 0\n",
    "menores_que = 0\n",
    "for i in range(2):\n",
    "    for j in range(2):\n",
    "        if A[i, j] < 6:\n",
    "            menores_que += 1\n",
    "        contador += 1\n",
    "        suma = suma + A[i, j]\n",
    "print(suma)"
   ]
  },
  {
   "cell_type": "code",
   "execution_count": 6,
   "id": "57b8f1be",
   "metadata": {},
   "outputs": [
    {
     "name": "stdout",
     "output_type": "stream",
     "text": [
      "4\n",
      "2.5\n"
     ]
    }
   ],
   "source": [
    "#c) Calcular el promedio de los elementos de su arreglo\n",
    "print(contador)\n",
    "promedio = suma/contador\n",
    "print(promedio)"
   ]
  },
  {
   "cell_type": "code",
   "execution_count": 8,
   "id": "596ff4c2",
   "metadata": {},
   "outputs": [
    {
     "name": "stdout",
     "output_type": "stream",
     "text": [
      "4\n"
     ]
    }
   ],
   "source": [
    "#d) Determinar la cantidad de elementos de su arreglo que son menores que 6.\n",
    "print(menores_que)"
   ]
  },
  {
   "cell_type": "code",
   "execution_count": 10,
   "id": "28d6727c",
   "metadata": {},
   "outputs": [
    {
     "name": "stdout",
     "output_type": "stream",
     "text": [
      "4\n",
      "2 2\n"
     ]
    }
   ],
   "source": [
    "#e) Determinar el valor y posición del elemento más grande de su arreglo.\n",
    "a = -1000\n",
    "num_f = 0\n",
    "num_c = 0\n",
    "\n",
    "for i in range(2):\n",
    "    for j in range(2):\n",
    "        if a < A[i, j]:\n",
    "            a = A[i, j]\n",
    "            num_f = i+1\n",
    "            num_c = j+1\n",
    "            \n",
    "print(a)\n",
    "print(num_f, num_c)"
   ]
  },
  {
   "cell_type": "code",
   "execution_count": 12,
   "id": "3ce46791",
   "metadata": {},
   "outputs": [
    {
     "name": "stdout",
     "output_type": "stream",
     "text": [
      "1\n",
      "1 1\n"
     ]
    }
   ],
   "source": [
    "#f) Determine el valor y posición del elemento más pequeño de su arreglo.\n",
    "b = 100000\n",
    "num_f = 0\n",
    "num_c = 0\n",
    "\n",
    "for i in range(2):\n",
    "    for j in range(2):\n",
    "        if b > A[i, j]:\n",
    "            b = A[i, j]\n",
    "            num_f = i + 1\n",
    "            num_c = j + 1\n",
    "print(b)\n",
    "print(num_f, num_c)"
   ]
  },
  {
   "cell_type": "code",
   "execution_count": 13,
   "id": "c9e086fe",
   "metadata": {},
   "outputs": [
    {
     "name": "stdout",
     "output_type": "stream",
     "text": [
      "[[1 2]\n",
      " [3 4]]\n"
     ]
    }
   ],
   "source": [
    "#g) Determinar el elemento que más se repite en su arreglo\n",
    "print(A)\n"
   ]
  },
  {
   "cell_type": "code",
   "execution_count": 33,
   "id": "e7b3f900",
   "metadata": {},
   "outputs": [
    {
     "data": {
      "text/plain": [
       "array([[37, 12, 72,  9, 75],\n",
       "       [ 5, 79, 64, 16,  1],\n",
       "       [76, 71,  6, 25, 50],\n",
       "       [20, 18, 84, 11, 28],\n",
       "       [29, 14, 50, 68, 87]])"
      ]
     },
     "execution_count": 33,
     "metadata": {},
     "output_type": "execute_result"
    }
   ],
   "source": [
    "#Matrices aleatorias\n",
    "np.random.seed(1)\n",
    "B = np.random.randint(100, size=(5, 5))\n",
    "B"
   ]
  },
  {
   "cell_type": "code",
   "execution_count": null,
   "id": "38af12cb",
   "metadata": {},
   "outputs": [],
   "source": [
    "#h"
   ]
  },
  {
   "cell_type": "code",
   "execution_count": null,
   "id": "da2dd68a",
   "metadata": {},
   "outputs": [],
   "source": [
    "#i"
   ]
  },
  {
   "cell_type": "code",
   "execution_count": 35,
   "id": "605bb1c6",
   "metadata": {},
   "outputs": [],
   "source": [
    "#j"
   ]
  },
  {
   "cell_type": "code",
   "execution_count": 36,
   "id": "b6bf2a5b",
   "metadata": {},
   "outputs": [],
   "source": [
    "#k"
   ]
  },
  {
   "cell_type": "code",
   "execution_count": null,
   "id": "9d689747",
   "metadata": {},
   "outputs": [],
   "source": [
    "#l"
   ]
  },
  {
   "cell_type": "code",
   "execution_count": null,
   "id": "ad407fa6",
   "metadata": {},
   "outputs": [],
   "source": [
    "#m"
   ]
  },
  {
   "cell_type": "code",
   "execution_count": null,
   "id": "f4612960",
   "metadata": {},
   "outputs": [],
   "source": [
    "#n"
   ]
  },
  {
   "cell_type": "code",
   "execution_count": 37,
   "id": "641c49ae",
   "metadata": {},
   "outputs": [],
   "source": [
    "#o"
   ]
  },
  {
   "cell_type": "code",
   "execution_count": null,
   "id": "5959bf74",
   "metadata": {},
   "outputs": [],
   "source": [
    "#p) El más importante"
   ]
  }
 ],
 "metadata": {
  "kernelspec": {
   "display_name": "Python 3 (ipykernel)",
   "language": "python",
   "name": "python3"
  },
  "language_info": {
   "codemirror_mode": {
    "name": "ipython",
    "version": 3
   },
   "file_extension": ".py",
   "mimetype": "text/x-python",
   "name": "python",
   "nbconvert_exporter": "python",
   "pygments_lexer": "ipython3",
   "version": "3.10.4"
  }
 },
 "nbformat": 4,
 "nbformat_minor": 5
}
