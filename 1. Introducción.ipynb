{
 "cells": [
  {
   "cell_type": "code",
   "execution_count": 3,
   "id": "860f7736",
   "metadata": {},
   "outputs": [
    {
     "name": "stdout",
     "output_type": "stream",
     "text": [
      "(3,)\n",
      "1\n"
     ]
    }
   ],
   "source": [
    "import numpy as np\n",
    "\n",
    "#Se crea un arreglo\n",
    "arr = np.array([1, 2, 3])\n",
    "\n",
    "#Arreglos especiales\n",
    "a = [1, 2, 3]\n",
    "b = [1, 1, 1]\n",
    "c = np.array([1, 1, 1])"
   ]
  },
  {
   "cell_type": "code",
   "execution_count": 7,
   "id": "5f9d07a1",
   "metadata": {},
   "outputs": [
    {
     "name": "stdout",
     "output_type": "stream",
     "text": [
      "(3,)\n",
      "1\n",
      "3\n"
     ]
    }
   ],
   "source": [
    "#Entrega cantidad de (dimensiones, elementos) en ellas.\n",
    "print(arr.shape)\n",
    "\n",
    "#Número de dimensiones de un arreglo\n",
    "print(arr.ndim)\n",
    "\n",
    "#Cantidad de entradas que tiene el arreglo\n",
    "print(arr.size)"
   ]
  },
  {
   "cell_type": "code",
   "execution_count": 16,
   "id": "7a61cd82",
   "metadata": {},
   "outputs": [
    {
     "data": {
      "text/plain": [
       "(4, 2)"
      ]
     },
     "execution_count": 16,
     "metadata": {},
     "output_type": "execute_result"
    }
   ],
   "source": [
    "q = np.array([[1, 2], [3, 4], [1, 3], [2, 4]])\n",
    "r = np.array([1, 2, 3])\n",
    "\n",
    "q.shape #(4, 2)"
   ]
  },
  {
   "cell_type": "code",
   "execution_count": 17,
   "id": "66113cdc",
   "metadata": {},
   "outputs": [
    {
     "data": {
      "text/plain": [
       "2"
      ]
     },
     "execution_count": 17,
     "metadata": {},
     "output_type": "execute_result"
    }
   ],
   "source": [
    "q.ndim #2"
   ]
  },
  {
   "cell_type": "code",
   "execution_count": 18,
   "id": "8da94d21",
   "metadata": {},
   "outputs": [
    {
     "data": {
      "text/plain": [
       "8"
      ]
     },
     "execution_count": 18,
     "metadata": {},
     "output_type": "execute_result"
    }
   ],
   "source": [
    "q.size #6"
   ]
  },
  {
   "cell_type": "code",
   "execution_count": 19,
   "id": "dc5b44cd",
   "metadata": {},
   "outputs": [
    {
     "data": {
      "text/plain": [
       "1"
      ]
     },
     "execution_count": 19,
     "metadata": {},
     "output_type": "execute_result"
    }
   ],
   "source": [
    "r.ndim #1"
   ]
  },
  {
   "cell_type": "code",
   "execution_count": 21,
   "id": "3b576059",
   "metadata": {},
   "outputs": [],
   "source": [
    "#Crear un arreglo de ceros\n",
    "#4 filas, 10 columnas\n",
    "t = np.zeros((4, 10))"
   ]
  },
  {
   "cell_type": "code",
   "execution_count": 24,
   "id": "29ba5432",
   "metadata": {},
   "outputs": [],
   "source": [
    "#Crear un arreglo de unos\n",
    "a = np.ones((2, 10))"
   ]
  },
  {
   "cell_type": "code",
   "execution_count": 27,
   "id": "fe3408fa",
   "metadata": {},
   "outputs": [],
   "source": [
    "#Crear un arreglo lleno de una constante\n",
    "b = np.full((3, 5), 3.14)"
   ]
  },
  {
   "cell_type": "code",
   "execution_count": 29,
   "id": "33233bfa",
   "metadata": {},
   "outputs": [],
   "source": [
    "#Arreglo vacío\n",
    "c = np.empty(11)"
   ]
  },
  {
   "cell_type": "code",
   "execution_count": 31,
   "id": "79557fc3",
   "metadata": {},
   "outputs": [],
   "source": [
    "#Arreglo con números aleatorios entre el 0 y 9\n",
    "# (valor ini, valor final+1, tamaño)\n",
    "d = np.random.randint(0, 10, 15)"
   ]
  },
  {
   "cell_type": "code",
   "execution_count": 34,
   "id": "ca1cc32a",
   "metadata": {},
   "outputs": [],
   "source": [
    "#Arreglo con números desde el 5 al 30 con saltos de a 3\n",
    "#El último número no lo considera\n",
    "e = np.arange(5, 32, 3)"
   ]
  },
  {
   "cell_type": "code",
   "execution_count": 37,
   "id": "58f4d912",
   "metadata": {},
   "outputs": [],
   "source": [
    "#Arreglo equiespaciado de 0 a 1 con 11 puntos\n",
    "#Genera un arreglo con 11 elementos equiespaciados.\n",
    "f = np.linspace(0, 1, 11)"
   ]
  },
  {
   "cell_type": "code",
   "execution_count": 42,
   "id": "903222d9",
   "metadata": {},
   "outputs": [
    {
     "name": "stdout",
     "output_type": "stream",
     "text": [
      "[2 1 5]\n",
      "[0 3 1]\n",
      "[ 1 -2  6]\n",
      "[ 1.  -2.   1.5]\n"
     ]
    }
   ],
   "source": [
    "g = np.array([1, 2, 3])\n",
    "h = np.array([1, -1, 2])\n",
    "print(g+h)\n",
    "print(g-h)\n",
    "print(g*h)\n",
    "print(g/h)"
   ]
  },
  {
   "cell_type": "code",
   "execution_count": 43,
   "id": "eceef95a",
   "metadata": {},
   "outputs": [
    {
     "name": "stdout",
     "output_type": "stream",
     "text": [
      "[ 2.71828183  7.3890561  20.08553692]\n",
      "[1.         1.41421356 1.73205081]\n",
      "[ 0.84147098 -0.84147098  0.90929743]\n",
      "[0.         0.69314718 1.09861229]\n"
     ]
    }
   ],
   "source": [
    "print(np.exp(g))\n",
    "print(np.sqrt(g))\n",
    "print(np.sin(h))\n",
    "print(np.log(g))"
   ]
  },
  {
   "cell_type": "code",
   "execution_count": 47,
   "id": "49601536",
   "metadata": {},
   "outputs": [
    {
     "data": {
      "text/plain": [
       "11"
      ]
     },
     "execution_count": 47,
     "metadata": {},
     "output_type": "execute_result"
    }
   ],
   "source": [
    "arr = np.array([1, 2, 4, 6, 7, 8, 9, 98, 76, 98, 65])\n",
    "arr[-2]\n",
    "arr[9]\n",
    "arr[0]\n",
    "np.size(arr)"
   ]
  },
  {
   "cell_type": "code",
   "execution_count": 48,
   "id": "8450a851",
   "metadata": {},
   "outputs": [
    {
     "name": "stdout",
     "output_type": "stream",
     "text": [
      "65\n",
      "98\n",
      "76\n",
      "98\n",
      "9\n",
      "8\n",
      "7\n",
      "6\n",
      "4\n",
      "2\n",
      "1\n"
     ]
    }
   ],
   "source": [
    "for i in np.arange(np.size(arr)):\n",
    "    print(arr[-1-i])"
   ]
  },
  {
   "cell_type": "code",
   "execution_count": 49,
   "id": "23b3e74c",
   "metadata": {},
   "outputs": [
    {
     "data": {
      "text/plain": [
       "3"
      ]
     },
     "execution_count": 49,
     "metadata": {},
     "output_type": "execute_result"
    }
   ],
   "source": [
    "w = ['hola', 'mundo', 'chao']\n",
    "#Número de items en una lista\n",
    "len(w)"
   ]
  },
  {
   "cell_type": "code",
   "execution_count": 50,
   "id": "978b24dd",
   "metadata": {},
   "outputs": [
    {
     "data": {
      "text/plain": [
       "11"
      ]
     },
     "execution_count": 50,
     "metadata": {},
     "output_type": "execute_result"
    }
   ],
   "source": [
    "len(arr)"
   ]
  },
  {
   "cell_type": "code",
   "execution_count": 51,
   "id": "fb4c9206",
   "metadata": {},
   "outputs": [
    {
     "name": "stdout",
     "output_type": "stream",
     "text": [
      "1\n",
      "2\n",
      "4\n",
      "6\n",
      "7\n",
      "8\n",
      "9\n",
      "98\n",
      "76\n",
      "98\n",
      "65\n"
     ]
    }
   ],
   "source": [
    "for i in arr:\n",
    "    print(i)"
   ]
  },
  {
   "cell_type": "code",
   "execution_count": 52,
   "id": "b5d530cb",
   "metadata": {},
   "outputs": [
    {
     "name": "stdout",
     "output_type": "stream",
     "text": [
      "La posición 2 es un peak\n",
      "La posición 4 es un peak\n"
     ]
    }
   ],
   "source": [
    "#Encontrar el peak de un arreglo\n",
    "# a[k-1] <= a[k] y a[k+1] <= a[k]\n",
    "\n",
    "a = np.array([5, 2, 3, 2, 3, 2, 3, 4])\n",
    "\n",
    "def BuscarPeak(a):\n",
    "    for i in np.arange(1, len(a) - 1):\n",
    "        if a[i] >= a[i-1] and a[i] >= a[i+1]:\n",
    "            print(\"La posición\", i, \"es un peak\")\n",
    "            \n",
    "BuscarPeak(a)"
   ]
  },
  {
   "cell_type": "code",
   "execution_count": 54,
   "id": "7d8dd3f7",
   "metadata": {},
   "outputs": [
    {
     "name": "stdout",
     "output_type": "stream",
     "text": [
      "[1 1 8 3 1 9 2 7 4 2 4 9 0 1 4 7 9 7 1 6]\n",
      "La posición 2 es un peak\n",
      "La posición 5 es un peak\n",
      "La posición 7 es un peak\n",
      "La posición 11 es un peak\n",
      "La posición 16 es un peak\n"
     ]
    }
   ],
   "source": [
    "b = np.random.randint(0, 10, 20)\n",
    "print(b)\n",
    "BuscarPeak(b)"
   ]
  },
  {
   "cell_type": "code",
   "execution_count": 55,
   "id": "2a02845e",
   "metadata": {},
   "outputs": [
    {
     "name": "stdout",
     "output_type": "stream",
     "text": [
      "[[1 2 3]\n",
      " [3 4 5]]\n"
     ]
    }
   ],
   "source": [
    "#Matrices\n",
    "#Se crea una matriz de 2x3\n",
    "\n",
    "A = np.array([[1, 2, 3], [3, 4, 5]])\n",
    "print(A)"
   ]
  },
  {
   "cell_type": "code",
   "execution_count": 56,
   "id": "b66f3388",
   "metadata": {},
   "outputs": [
    {
     "name": "stdout",
     "output_type": "stream",
     "text": [
      "(2, 3)\n",
      "2\n",
      "6\n",
      "2\n"
     ]
    }
   ],
   "source": [
    "print(A.shape)\n",
    "print(A.ndim)\n",
    "print(A.size)\n",
    "print(len(A))"
   ]
  },
  {
   "cell_type": "code",
   "execution_count": 58,
   "id": "cd5553b2",
   "metadata": {},
   "outputs": [
    {
     "name": "stdout",
     "output_type": "stream",
     "text": [
      "5\n"
     ]
    }
   ],
   "source": [
    "#Segunda fila, tercer elemento\n",
    "#(fila-1, columna-1)\n",
    "print(A[1, 2])"
   ]
  },
  {
   "cell_type": "code",
   "execution_count": 59,
   "id": "f8b0ef9c",
   "metadata": {},
   "outputs": [
    {
     "name": "stdout",
     "output_type": "stream",
     "text": [
      "3\n"
     ]
    }
   ],
   "source": [
    "#Primera fila, último elemento\n",
    "print(A[0, -1])"
   ]
  },
  {
   "cell_type": "code",
   "execution_count": 60,
   "id": "e0bf0c37",
   "metadata": {},
   "outputs": [
    {
     "name": "stdout",
     "output_type": "stream",
     "text": [
      "[1 2 3]\n"
     ]
    }
   ],
   "source": [
    "#Primera fila\n",
    "print(A[0])"
   ]
  },
  {
   "cell_type": "code",
   "execution_count": 61,
   "id": "d84e9b1f",
   "metadata": {},
   "outputs": [
    {
     "name": "stdout",
     "output_type": "stream",
     "text": [
      "[1 2 3]\n",
      "[3 4 5]\n"
     ]
    }
   ],
   "source": [
    "#Matrices como arreglos de arreglos\n",
    "for x in A:\n",
    "    print(x)"
   ]
  },
  {
   "cell_type": "code",
   "execution_count": 62,
   "id": "1122e782",
   "metadata": {},
   "outputs": [
    {
     "name": "stdout",
     "output_type": "stream",
     "text": [
      "1\n",
      "2\n",
      "3\n",
      "3\n",
      "4\n",
      "5\n"
     ]
    }
   ],
   "source": [
    "#Se puede recorrer de la siguiente manera:\n",
    "for x in A:\n",
    "    for y in x:\n",
    "        print(y)"
   ]
  },
  {
   "cell_type": "code",
   "execution_count": 63,
   "id": "bafbcb02",
   "metadata": {},
   "outputs": [
    {
     "name": "stdout",
     "output_type": "stream",
     "text": [
      "1\n",
      "3\n",
      "2\n",
      "4\n",
      "3\n",
      "5\n"
     ]
    }
   ],
   "source": [
    "#Recorre columna por columna\n",
    "for j in range(3):\n",
    "    for i in range(2):\n",
    "        print(A[i, j])"
   ]
  },
  {
   "cell_type": "code",
   "execution_count": 64,
   "id": "8f74d3d2",
   "metadata": {},
   "outputs": [
    {
     "name": "stdout",
     "output_type": "stream",
     "text": [
      "1\n",
      "2\n",
      "3\n",
      "3\n",
      "4\n",
      "5\n"
     ]
    }
   ],
   "source": [
    "#Recorre fila por fila\n",
    "for i in range(2):\n",
    "    for j in range(3):\n",
    "        print(A[i, j])"
   ]
  },
  {
   "cell_type": "code",
   "execution_count": 65,
   "id": "bc73b5d8",
   "metadata": {},
   "outputs": [
    {
     "name": "stdout",
     "output_type": "stream",
     "text": [
      "2\n",
      "4\n"
     ]
    }
   ],
   "source": [
    "for i in range(2):\n",
    "    print(A[i, 1])\n"
   ]
  },
  {
   "cell_type": "code",
   "execution_count": null,
   "id": "a2091b87",
   "metadata": {},
   "outputs": [],
   "source": []
  }
 ],
 "metadata": {
  "kernelspec": {
   "display_name": "Python 3 (ipykernel)",
   "language": "python",
   "name": "python3"
  },
  "language_info": {
   "codemirror_mode": {
    "name": "ipython",
    "version": 3
   },
   "file_extension": ".py",
   "mimetype": "text/x-python",
   "name": "python",
   "nbconvert_exporter": "python",
   "pygments_lexer": "ipython3",
   "version": "3.10.4"
  }
 },
 "nbformat": 4,
 "nbformat_minor": 5
}
